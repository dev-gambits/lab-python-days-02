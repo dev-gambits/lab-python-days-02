{
  "nbformat": 4,
  "nbformat_minor": 0,
  "metadata": {
    "colab": {
      "provenance": []
    },
    "kernelspec": {
      "name": "python3",
      "display_name": "Python 3"
    },
    "language_info": {
      "name": "python"
    }
  },
  "cells": [
    {
      "cell_type": "markdown",
      "source": [
        "# Numbers"
      ],
      "metadata": {
        "id": "tcA9GUEHdfLJ"
      }
    },
    {
      "cell_type": "code",
      "source": [
        "edad = 30\n",
        "pi = 3.14\n",
        "salario = 1500.50\n",
        "print(edad, pi, salario)\n",
        "\n",
        "numero_grande = 1e6  # 1 millón\n",
        "numero_pequeno = 1e-6  # 0.000001\n",
        "print(numero_grande, numero_pequeno)"
      ],
      "metadata": {
        "colab": {
          "base_uri": "https://localhost:8080/"
        },
        "id": "OvDDCkrtdiRJ",
        "outputId": "d24a9c4d-944f-4f3f-d7b4-02f6b6e0a858"
      },
      "execution_count": 10,
      "outputs": [
        {
          "output_type": "stream",
          "name": "stdout",
          "text": [
            "30 3.14 1500.5\n",
            "1000000.0 1e-06\n"
          ]
        }
      ]
    },
    {
      "cell_type": "markdown",
      "source": [
        "# Type annotations for numbers"
      ],
      "metadata": {
        "id": "ttYv4ZTydomx"
      }
    },
    {
      "cell_type": "code",
      "source": [
        "edad: int = 30\n",
        "pi: float = 3.14\n",
        "salario: float = 1500.50\n",
        "print(edad, pi, salario)"
      ],
      "metadata": {
        "colab": {
          "base_uri": "https://localhost:8080/"
        },
        "id": "IufIVAugeAmJ",
        "outputId": "19d5e0da-4680-4002-f27c-bbbdd4acfd58"
      },
      "execution_count": 11,
      "outputs": [
        {
          "output_type": "stream",
          "name": "stdout",
          "text": [
            "30 3.14 1500.5\n"
          ]
        }
      ]
    },
    {
      "cell_type": "markdown",
      "source": [
        "# Strings"
      ],
      "metadata": {
        "id": "go7o8ZOdeENS"
      }
    },
    {
      "cell_type": "code",
      "source": [
        "nombre = \"Sustantiva\"\n",
        "apellido = 'Academy'\n",
        "print(nombre, apellido)"
      ],
      "metadata": {
        "colab": {
          "base_uri": "https://localhost:8080/"
        },
        "id": "VlmduvV_eGNC",
        "outputId": "4b824101-3fa7-425e-ab46-9eeb95587e3d"
      },
      "execution_count": 13,
      "outputs": [
        {
          "output_type": "stream",
          "name": "stdout",
          "text": [
            "Sustantiva Academy\n"
          ]
        }
      ]
    },
    {
      "cell_type": "markdown",
      "source": [
        "# Type annotation for string"
      ],
      "metadata": {
        "id": "eOXVhm3XeMy6"
      }
    },
    {
      "cell_type": "code",
      "source": [
        "mensaje: str = \"Hola, ¿cómo estás?\"\n",
        "print(mensaje)"
      ],
      "metadata": {
        "colab": {
          "base_uri": "https://localhost:8080/"
        },
        "id": "Kz3gLCw9eOsS",
        "outputId": "6ac2dfbd-d116-4efd-d303-5e81a1c9ac25"
      },
      "execution_count": 14,
      "outputs": [
        {
          "output_type": "stream",
          "name": "stdout",
          "text": [
            "Hola, ¿cómo estás?\n"
          ]
        }
      ]
    },
    {
      "cell_type": "markdown",
      "source": [
        "# String concatenation"
      ],
      "metadata": {
        "id": "AdMnPqYCeReh"
      }
    },
    {
      "cell_type": "code",
      "source": [
        "saludo = \"Hola, \" + nombre + \" \" + apellido + \"!\"\n",
        "print(saludo)"
      ],
      "metadata": {
        "colab": {
          "base_uri": "https://localhost:8080/"
        },
        "id": "PRvtVujoeTdR",
        "outputId": "a69cdb4d-d486-4c0b-9f61-1116433f18fb"
      },
      "execution_count": 15,
      "outputs": [
        {
          "output_type": "stream",
          "name": "stdout",
          "text": [
            "Hola, Sustantiva Academy!\n"
          ]
        }
      ]
    },
    {
      "cell_type": "markdown",
      "source": [
        "# f-strings"
      ],
      "metadata": {
        "id": "vO2pKOK3eV0h"
      }
    },
    {
      "cell_type": "code",
      "source": [
        "saludo_fstring = f\"Hola, {nombre} {apellido}!\"\n",
        "print(saludo_fstring)"
      ],
      "metadata": {
        "colab": {
          "base_uri": "https://localhost:8080/"
        },
        "id": "DaqaUaMkeZ9b",
        "outputId": "0a9e7f2e-8682-4335-d3f5-7fffcee747cf"
      },
      "execution_count": 16,
      "outputs": [
        {
          "output_type": "stream",
          "name": "stdout",
          "text": [
            "Hola, Sustantiva Academy!\n"
          ]
        }
      ]
    },
    {
      "cell_type": "markdown",
      "source": [
        "# String methods"
      ],
      "metadata": {
        "id": "RKRbcmA8ebZx"
      }
    },
    {
      "cell_type": "code",
      "source": [
        "print(len(nombre))\n",
        "print(nombre.upper())\n",
        "print(nombre.lower())\n",
        "print(nombre.split('a'))"
      ],
      "metadata": {
        "colab": {
          "base_uri": "https://localhost:8080/"
        },
        "id": "xvWr9e7ledZK",
        "outputId": "644b9474-ca24-45d5-b9df-2ba23aa91af0"
      },
      "execution_count": 17,
      "outputs": [
        {
          "output_type": "stream",
          "name": "stdout",
          "text": [
            "10\n",
            "SUSTANTIVA\n",
            "sustantiva\n",
            "['Sust', 'ntiv', '']\n"
          ]
        }
      ]
    },
    {
      "cell_type": "markdown",
      "source": [
        "# Dictionaries"
      ],
      "metadata": {
        "id": "EQLb0n6WehiK"
      }
    },
    {
      "cell_type": "code",
      "source": [
        "persona = {\n",
        "    \"nombre\": \"Fulanita\",\n",
        "    \"puntaje\": 9567,\n",
        "    \"cursoFavorito\": {\n",
        "        \"nombre\": \"Básico de Python\",\n",
        "        \"clases\": 30,\n",
        "        \"duracion\": \"2 horas\"\n",
        "    }\n",
        "}\n",
        "print(persona)"
      ],
      "metadata": {
        "colab": {
          "base_uri": "https://localhost:8080/"
        },
        "id": "q7jf0ydKejpC",
        "outputId": "b49218cf-9485-4401-ceb6-ba3c2b2d700e"
      },
      "execution_count": 20,
      "outputs": [
        {
          "output_type": "stream",
          "name": "stdout",
          "text": [
            "{'nombre': 'Fulanita', 'puntaje': 9567, 'cursoFavorito': {'nombre': 'Básico de Python', 'clases': 30, 'duracion': '2 horas'}}\n"
          ]
        }
      ]
    },
    {
      "cell_type": "markdown",
      "source": [
        "# Accessing dictionary elements"
      ],
      "metadata": {
        "id": "H-zYYDzkglIR"
      }
    },
    {
      "cell_type": "code",
      "source": [
        "print(persona[\"nombre\"])\n",
        "print(persona[\"cursoFavorito\"][\"nombre\"])\n",
        "print(persona[\"puntaje\"])"
      ],
      "metadata": {
        "colab": {
          "base_uri": "https://localhost:8080/"
        },
        "id": "rv5ukClqgn3S",
        "outputId": "68bc8a20-6f79-40c7-f9fa-e38b1396249c"
      },
      "execution_count": 21,
      "outputs": [
        {
          "output_type": "stream",
          "name": "stdout",
          "text": [
            "Fulanita\n",
            "Básico de Python\n",
            "9567\n"
          ]
        }
      ]
    },
    {
      "cell_type": "markdown",
      "source": [
        "# Booleans"
      ],
      "metadata": {
        "id": "M21weDLZgubS"
      }
    },
    {
      "cell_type": "code",
      "source": [
        "curso_completado = True\n",
        "lectura_completada = False"
      ],
      "metadata": {
        "id": "ZNmLL1JEgwui"
      },
      "execution_count": 22,
      "outputs": []
    },
    {
      "cell_type": "markdown",
      "source": [
        "# Checking data types"
      ],
      "metadata": {
        "id": "zx77kWNDg0AJ"
      }
    },
    {
      "cell_type": "code",
      "source": [
        "print(type(\"#SustantivaCursoPython\"))\n",
        "print(type(30))\n",
        "print(type({}))\n",
        "print(type([]))"
      ],
      "metadata": {
        "colab": {
          "base_uri": "https://localhost:8080/"
        },
        "id": "iLsmcwiYg18x",
        "outputId": "58d913a7-ea19-4cf9-adfa-0b7cdbe33236"
      },
      "execution_count": 24,
      "outputs": [
        {
          "output_type": "stream",
          "name": "stdout",
          "text": [
            "<class 'str'>\n",
            "<class 'int'>\n",
            "<class 'dict'>\n",
            "<class 'list'>\n"
          ]
        }
      ]
    }
  ]
}